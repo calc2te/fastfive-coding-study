{
 "cells": [
  {
   "cell_type": "markdown",
   "metadata": {},
   "source": [
    "## 크롤링"
   ]
  },
  {
   "cell_type": "markdown",
   "metadata": {},
   "source": [
    "- 지난번에 했던 크롤링을 좀 더 업그레이드 해보겠습니다.\n",
    "    - 기존 자료 (csv) 유지하기\n",
    "    - 중복 단어 제거하기\n",
    "    - 특정 단어 제거하기"
   ]
  },
  {
   "cell_type": "code",
   "execution_count": null,
   "metadata": {
    "scrolled": true
   },
   "outputs": [],
   "source": [
    "from bs4 import BeautifulSoup\n",
    "import urllib.request\n",
    "\n",
    "URL = 'https://search.naver.com/search.naver?&where=news&query=%EC%9D%B8%ED%85%8C%EB%A6%AC%EC%96%B4'\n",
    "source_code_from_URL = urllib.request.urlopen(URL)\n",
    "\n",
    "import lxml\n",
    "\n",
    "# URL 주소에 있는 소스코드를 가져오기\n",
    "soup = BeautifulSoup(source_code_from_URL, 'lxml', from_encoding='utf-8')\n",
    "\n",
    "a_tag_list = soup.find_all('a', class_='_sp_each_title')\n",
    "\n",
    "# 제목 가져오기 + 어절로 나누기\n",
    "word_list = []\n",
    "\n",
    "for a_tag in a_tag_list:    \n",
    "    words = a_tag.get('title').split()\n",
    "    for word in words:\n",
    "        word = word.replace('\\'', '')\n",
    "        word = word.replace('\\\"', '')\n",
    "        word = word.replace('···', ' ')\n",
    "        word = word.replace('’', '')\n",
    "        word = word.replace('“', '')\n",
    "        word = word.replace('”', '')\n",
    "        word = word.replace(',', '')\n",
    "        word = word.replace('‘', '')\n",
    "        \n",
    "        word_list.append(word)\n",
    "        \n",
    "import csv\n",
    "\n",
    "# word_list.csv에 있는 자료를 들고 온다\n",
    "array = []\n",
    "\n",
    "f = open('./word_list.csv', 'r')\n",
    "data = csv.reader(f, delimiter=',')\n",
    "for row in data:\n",
    "    array.append(row[0])\n",
    "f.close()\n",
    "\n",
    "# 들고온 자료에 word_list를 합친다\n",
    "word_list = word_list + array\n",
    "\n",
    "# 중복은 제거한다.\n",
    "word_list = set(word_list)\n",
    "\n",
    "# 제거하고 싶은 단어가 있다.\n",
    "except_noun = ['라면', '또']\n",
    "\n",
    "# 합친 자료를 word_list.csv로 만든다.\n",
    "with open ('word_list.csv', 'w', newline='') as file:\n",
    "    writer = csv.writer(file)\n",
    "\n",
    "    for word in word_list:\n",
    "        # 만약에 except_noun에 없으면 write를 하자.\n",
    "        if word not in except_noun:\n",
    "            writer.writerow([word])"
   ]
  },
  {
   "cell_type": "code",
   "execution_count": null,
   "metadata": {},
   "outputs": [],
   "source": []
  },
  {
   "cell_type": "code",
   "execution_count": null,
   "metadata": {},
   "outputs": [],
   "source": []
  },
  {
   "cell_type": "markdown",
   "metadata": {},
   "source": [
    "- 두 배열을 합치기 위해서는 '+' 를 사용합니다."
   ]
  },
  {
   "cell_type": "code",
   "execution_count": 1,
   "metadata": {},
   "outputs": [],
   "source": [
    "a = ['a', 'b', 'c', 'd']\n",
    "b = ['1', '2', '3']"
   ]
  },
  {
   "cell_type": "code",
   "execution_count": 2,
   "metadata": {},
   "outputs": [],
   "source": [
    "a = a + b"
   ]
  },
  {
   "cell_type": "code",
   "execution_count": 3,
   "metadata": {},
   "outputs": [
    {
     "data": {
      "text/plain": [
       "['a', 'b', 'c', 'd', '1', '2', '3']"
      ]
     },
     "execution_count": 3,
     "metadata": {},
     "output_type": "execute_result"
    }
   ],
   "source": [
    "a"
   ]
  },
  {
   "cell_type": "code",
   "execution_count": null,
   "metadata": {},
   "outputs": [],
   "source": []
  },
  {
   "cell_type": "code",
   "execution_count": null,
   "metadata": {},
   "outputs": [],
   "source": []
  },
  {
   "cell_type": "markdown",
   "metadata": {},
   "source": [
    "- 중복을 제거하려면 set() 을 사용하면 됩니다."
   ]
  },
  {
   "cell_type": "code",
   "execution_count": 9,
   "metadata": {},
   "outputs": [],
   "source": [
    "a = [1, 1, 1, 2, 3, 4, 2, 2, 2, 3, 3, 4, 4, 4]"
   ]
  },
  {
   "cell_type": "code",
   "execution_count": 10,
   "metadata": {},
   "outputs": [
    {
     "data": {
      "text/plain": [
       "{1, 2, 3, 4}"
      ]
     },
     "execution_count": 10,
     "metadata": {},
     "output_type": "execute_result"
    }
   ],
   "source": [
    "set(a)"
   ]
  },
  {
   "cell_type": "code",
   "execution_count": null,
   "metadata": {},
   "outputs": [],
   "source": []
  },
  {
   "cell_type": "code",
   "execution_count": null,
   "metadata": {},
   "outputs": [],
   "source": []
  },
  {
   "cell_type": "markdown",
   "metadata": {},
   "source": [
    "- 포함여부를 체크하기 방법은 in 을 사용하면 됩니다."
   ]
  },
  {
   "cell_type": "code",
   "execution_count": 5,
   "metadata": {},
   "outputs": [],
   "source": [
    "test = ['a', 'b', 'c']"
   ]
  },
  {
   "cell_type": "code",
   "execution_count": 6,
   "metadata": {},
   "outputs": [],
   "source": [
    "word = 'd'"
   ]
  },
  {
   "cell_type": "code",
   "execution_count": 7,
   "metadata": {},
   "outputs": [
    {
     "data": {
      "text/plain": [
       "False"
      ]
     },
     "execution_count": 7,
     "metadata": {},
     "output_type": "execute_result"
    }
   ],
   "source": [
    "# test 배열에 word의 변수가 있는지 체크\n",
    "word in test"
   ]
  },
  {
   "cell_type": "code",
   "execution_count": 8,
   "metadata": {},
   "outputs": [
    {
     "data": {
      "text/plain": [
       "True"
      ]
     },
     "execution_count": 8,
     "metadata": {},
     "output_type": "execute_result"
    }
   ],
   "source": [
    "# 만약 없는지를 찾고 싶으면 not in 을 사용하면 됩니다.\n",
    "word not in test"
   ]
  },
  {
   "cell_type": "code",
   "execution_count": null,
   "metadata": {},
   "outputs": [],
   "source": []
  }
 ],
 "metadata": {
  "kernelspec": {
   "display_name": "Python 3",
   "language": "python",
   "name": "python3"
  },
  "language_info": {
   "codemirror_mode": {
    "name": "ipython",
    "version": 3
   },
   "file_extension": ".py",
   "mimetype": "text/x-python",
   "name": "python",
   "nbconvert_exporter": "python",
   "pygments_lexer": "ipython3",
   "version": "3.8.5"
  }
 },
 "nbformat": 4,
 "nbformat_minor": 4
}
