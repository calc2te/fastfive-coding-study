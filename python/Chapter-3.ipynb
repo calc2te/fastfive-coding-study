{
 "cells": [
  {
   "cell_type": "markdown",
   "metadata": {},
   "source": [
    "# 2020-07-14"
   ]
  },
  {
   "cell_type": "markdown",
   "metadata": {},
   "source": [
    "## 기온 데이터 불러오기"
   ]
  },
  {
   "cell_type": "code",
   "execution_count": 1,
   "metadata": {},
   "outputs": [],
   "source": [
    "import csv"
   ]
  },
  {
   "cell_type": "code",
   "execution_count": 43,
   "metadata": {},
   "outputs": [],
   "source": [
    "array = []\n",
    "\n",
    "f = open('./ta_20200701230055.csv', 'r', encoding='cp949')\n",
    "data = csv.reader(f, delimiter=',')\n",
    "for row in data:\n",
    "    array.append(row)\n",
    "f.close()"
   ]
  },
  {
   "cell_type": "markdown",
   "metadata": {},
   "source": [
    "### 리스트 안에 리스트가 있는 형태\n",
    "\n",
    "- 괄호를 두 번 써서 접근할 수 있어요."
   ]
  },
  {
   "cell_type": "code",
   "execution_count": 3,
   "metadata": {},
   "outputs": [
    {
     "data": {
      "text/plain": [
       "['2010-06-03', '108', '21.1', '16.2', '26.5']"
      ]
     },
     "execution_count": 3,
     "metadata": {},
     "output_type": "execute_result"
    }
   ],
   "source": [
    "array[10]"
   ]
  },
  {
   "cell_type": "code",
   "execution_count": 4,
   "metadata": {},
   "outputs": [
    {
     "data": {
      "text/plain": [
       "'2010-06-03'"
      ]
     },
     "execution_count": 4,
     "metadata": {},
     "output_type": "execute_result"
    }
   ],
   "source": [
    "array[10][0]"
   ]
  },
  {
   "cell_type": "markdown",
   "metadata": {},
   "source": [
    "### array 정리\n",
    "\n",
    "- 제 데이터를 보면 위에서 8번째줄까지는 기온과 무관한 자료이기 때문에 필요가 없어요."
   ]
  },
  {
   "cell_type": "markdown",
   "metadata": {},
   "source": [
    "- 8번째까지 행 확인하기"
   ]
  },
  {
   "cell_type": "code",
   "execution_count": 5,
   "metadata": {},
   "outputs": [
    {
     "data": {
      "text/plain": [
       "[['기온분석'],\n",
       " ['[검색조건]'],\n",
       " ['자료구분 : 일'],\n",
       " ['자료형태 : 기본'],\n",
       " ['지역/지점 : 서울'],\n",
       " ['기간 : 20100601~20200630'],\n",
       " [],\n",
       " ['날짜', '지점', '평균기온(℃)', '최저기온(℃)', '최고기온(℃)']]"
      ]
     },
     "execution_count": 5,
     "metadata": {},
     "output_type": "execute_result"
    }
   ],
   "source": [
    "array[:8]"
   ]
  },
  {
   "cell_type": "markdown",
   "metadata": {},
   "source": [
    "- 8번째 이후의 행 확인하기"
   ]
  },
  {
   "cell_type": "code",
   "execution_count": 49,
   "metadata": {},
   "outputs": [
    {
     "data": {
      "text/plain": [
       "[['2010-06-01', '108', '19.1', '12.1', '26.2'],\n",
       " ['2010-06-02', '108', '21', '14.8', '26.6'],\n",
       " ['2010-06-03', '108', '21.1', '16.2', '26.5'],\n",
       " ['2010-06-04', '108', '22.3', '16.6', '27.9'],\n",
       " ['2010-06-05', '108', '23.3', '17.9', '28.4'],\n",
       " ['2010-06-06', '108', '24.9', '19', '30.9'],\n",
       " ['2010-06-07', '108', '25.4', '20.9', '31.4'],\n",
       " ['2010-06-08', '108', '25.7', '19.3', '31.8'],\n",
       " ['2010-06-09', '108', '26', '20.5', '30.6'],\n",
       " ['2010-06-10', '108', '26.5', '21.7', '32.7'],\n",
       " ['2010-06-11', '108', '25.6', '21.6', '31.2'],\n",
       " ['2010-06-12', '108', '17.9', '16.9', '22']]"
      ]
     },
     "execution_count": 49,
     "metadata": {},
     "output_type": "execute_result"
    }
   ],
   "source": [
    "array[8:20]"
   ]
  },
  {
   "cell_type": "markdown",
   "metadata": {},
   "source": [
    "- array 변수를 다시 정리하기"
   ]
  },
  {
   "cell_type": "code",
   "execution_count": 50,
   "metadata": {},
   "outputs": [],
   "source": [
    "array = array[8:]"
   ]
  },
  {
   "cell_type": "code",
   "execution_count": 51,
   "metadata": {},
   "outputs": [
    {
     "data": {
      "text/plain": [
       "[['2010-06-01', '108', '19.1', '12.1', '26.2'],\n",
       " ['2010-06-02', '108', '21', '14.8', '26.6'],\n",
       " ['2010-06-03', '108', '21.1', '16.2', '26.5'],\n",
       " ['2010-06-04', '108', '22.3', '16.6', '27.9'],\n",
       " ['2010-06-05', '108', '23.3', '17.9', '28.4'],\n",
       " ['2010-06-06', '108', '24.9', '19', '30.9'],\n",
       " ['2010-06-07', '108', '25.4', '20.9', '31.4'],\n",
       " ['2010-06-08', '108', '25.7', '19.3', '31.8'],\n",
       " ['2010-06-09', '108', '26', '20.5', '30.6'],\n",
       " ['2010-06-10', '108', '26.5', '21.7', '32.7']]"
      ]
     },
     "execution_count": 51,
     "metadata": {},
     "output_type": "execute_result"
    }
   ],
   "source": [
    "array[:10]"
   ]
  },
  {
   "cell_type": "markdown",
   "metadata": {},
   "source": [
    "## 평균기온만 가져오기"
   ]
  },
  {
   "cell_type": "code",
   "execution_count": 11,
   "metadata": {},
   "outputs": [
    {
     "ename": "IndexError",
     "evalue": "list index out of range",
     "output_type": "error",
     "traceback": [
      "\u001b[0;31m---------------------------------------------------------------------------\u001b[0m",
      "\u001b[0;31mIndexError\u001b[0m                                Traceback (most recent call last)",
      "\u001b[0;32m<ipython-input-11-6c877f59d9b3>\u001b[0m in \u001b[0;36m<module>\u001b[0;34m\u001b[0m\n\u001b[1;32m      3\u001b[0m \u001b[0;34m\u001b[0m\u001b[0m\n\u001b[1;32m      4\u001b[0m \u001b[0;32mfor\u001b[0m \u001b[0ma\u001b[0m \u001b[0;32min\u001b[0m \u001b[0marray\u001b[0m\u001b[0;34m:\u001b[0m\u001b[0;34m\u001b[0m\u001b[0;34m\u001b[0m\u001b[0m\n\u001b[0;32m----> 5\u001b[0;31m     \u001b[0mavg\u001b[0m\u001b[0;34m.\u001b[0m\u001b[0mappend\u001b[0m\u001b[0;34m(\u001b[0m\u001b[0ma\u001b[0m\u001b[0;34m[\u001b[0m\u001b[0;36m2\u001b[0m\u001b[0;34m]\u001b[0m\u001b[0;34m)\u001b[0m\u001b[0;34m\u001b[0m\u001b[0;34m\u001b[0m\u001b[0m\n\u001b[0m",
      "\u001b[0;31mIndexError\u001b[0m: list index out of range"
     ]
    }
   ],
   "source": [
    "# 평균기온을 담을 리스트\n",
    "avg = []\n",
    "\n",
    "for a in array:\n",
    "    avg.append(a[2])"
   ]
  },
  {
   "cell_type": "markdown",
   "metadata": {},
   "source": [
    "- `IndexError: list index out of range`\n",
    "\n",
    "- 보통 리스트 중간에 예상하지 못한 다른 형태가 나타나면 이런 에러가 나타나요."
   ]
  },
  {
   "cell_type": "markdown",
   "metadata": {},
   "source": [
    "array의 뒷 부분을 보면..."
   ]
  },
  {
   "cell_type": "code",
   "execution_count": 12,
   "metadata": {},
   "outputs": [
    {
     "data": {
      "text/plain": [
       "[['2020-06-22', '108', '28.6', '21.7', '35.4'],\n",
       " ['2020-06-23', '108', '27.3', '23.2', '31'],\n",
       " ['2020-06-24', '108', '22.3', '19.9', '26.3'],\n",
       " ['2020-06-25', '108', '21.6', '20.1', '23.4'],\n",
       " ['2020-06-26', '108', '21.8', '19.2', '25.7'],\n",
       " ['2020-06-27', '108', '24.1', '20.4', '29.6'],\n",
       " ['2020-06-28', '108', '25.2', '21.5', '30.1'],\n",
       " ['2020-06-29', '108', '23.8', '20.6', '26.5'],\n",
       " ['2020-06-30', '108', '20.1', '18.4', '23.1'],\n",
       " []]"
      ]
     },
     "execution_count": 12,
     "metadata": {},
     "output_type": "execute_result"
    }
   ],
   "source": [
    "array[-10:]"
   ]
  },
  {
   "cell_type": "markdown",
   "metadata": {},
   "source": [
    "마지막 행이 비어있습니다.\n",
    "\n",
    "마지막 행을 제외하고 다시 array를 정리하겠습니다."
   ]
  },
  {
   "cell_type": "code",
   "execution_count": 13,
   "metadata": {},
   "outputs": [],
   "source": [
    "array = array[:-1]"
   ]
  },
  {
   "cell_type": "code",
   "execution_count": 14,
   "metadata": {},
   "outputs": [
    {
     "data": {
      "text/plain": [
       "[['2020-06-21', '108', '26.1', '19.5', '32.7'],\n",
       " ['2020-06-22', '108', '28.6', '21.7', '35.4'],\n",
       " ['2020-06-23', '108', '27.3', '23.2', '31'],\n",
       " ['2020-06-24', '108', '22.3', '19.9', '26.3'],\n",
       " ['2020-06-25', '108', '21.6', '20.1', '23.4'],\n",
       " ['2020-06-26', '108', '21.8', '19.2', '25.7'],\n",
       " ['2020-06-27', '108', '24.1', '20.4', '29.6'],\n",
       " ['2020-06-28', '108', '25.2', '21.5', '30.1'],\n",
       " ['2020-06-29', '108', '23.8', '20.6', '26.5'],\n",
       " ['2020-06-30', '108', '20.1', '18.4', '23.1']]"
      ]
     },
     "execution_count": 14,
     "metadata": {},
     "output_type": "execute_result"
    }
   ],
   "source": [
    "array[-10:]"
   ]
  },
  {
   "cell_type": "markdown",
   "metadata": {},
   "source": [
    "## 다시 평균기온만 가져오기"
   ]
  },
  {
   "cell_type": "code",
   "execution_count": 15,
   "metadata": {},
   "outputs": [],
   "source": [
    "# 평균기온을 담을 리스트\n",
    "avg = []\n",
    "\n",
    "for a in array:\n",
    "    avg.append(a[2])"
   ]
  },
  {
   "cell_type": "code",
   "execution_count": 16,
   "metadata": {},
   "outputs": [
    {
     "data": {
      "text/plain": [
       "['19.1', '21', '21.1', '22.3', '23.3', '24.9', '25.4', '25.7', '26', '26.5']"
      ]
     },
     "execution_count": 16,
     "metadata": {},
     "output_type": "execute_result"
    }
   ],
   "source": [
    "avg[:10]"
   ]
  },
  {
   "cell_type": "markdown",
   "metadata": {},
   "source": [
    "## 그래프 그리기"
   ]
  },
  {
   "cell_type": "code",
   "execution_count": 18,
   "metadata": {},
   "outputs": [
    {
     "data": {
      "image/png": "[encoded data removed]",
      "text/plain": [
       "<Figure size 432x288 with 1 Axes>"
      ]
     },
     "metadata": {
      "needs_background": "light"
     },
     "output_type": "display_data"
    }
   ],
   "source": [
    "import matplotlib.pyplot as plt\n",
    "\n",
    "plt.plot(avg)\n",
    "plt.show()"
   ]
  },
  {
   "cell_type": "markdown",
   "metadata": {},
   "source": [
    "저는 그래프가 이상하다 싶으면... \n",
    "\n",
    "작은 크기의 숫자로 결과를 그려보고 뭐가 이상한지 봅니다."
   ]
  },
  {
   "cell_type": "code",
   "execution_count": 20,
   "metadata": {},
   "outputs": [
    {
     "data": {
      "image/png": "[encoded data removed]",
      "text/plain": [
       "<Figure size 432x288 with 1 Axes>"
      ]
     },
     "metadata": {
      "needs_background": "light"
     },
     "output_type": "display_data"
    }
   ],
   "source": [
    "plt.plot(avg[:20])\n",
    "plt.show()"
   ]
  },
  {
   "cell_type": "markdown",
   "metadata": {},
   "source": [
    "그래프의 y축을 보면 숫자가 순서대로 되어있지 않습니다.\n",
    "\n",
    "그건, 숫자가 `문자`로 인식되어서 입니다."
   ]
  },
  {
   "cell_type": "markdown",
   "metadata": {},
   "source": [
    "## 숫자와 문자"
   ]
  },
  {
   "cell_type": "markdown",
   "metadata": {},
   "source": [
    "변수에 따옴표가 있다면 숫자도 문자로 인식이 됩니다."
   ]
  },
  {
   "cell_type": "code",
   "execution_count": 27,
   "metadata": {},
   "outputs": [],
   "source": [
    "a = 10 # 숫자"
   ]
  },
  {
   "cell_type": "code",
   "execution_count": 28,
   "metadata": {},
   "outputs": [
    {
     "data": {
      "text/plain": [
       "10"
      ]
     },
     "execution_count": 28,
     "metadata": {},
     "output_type": "execute_result"
    }
   ],
   "source": [
    "a"
   ]
  },
  {
   "cell_type": "code",
   "execution_count": 29,
   "metadata": {},
   "outputs": [],
   "source": [
    "b = '10' # 문자"
   ]
  },
  {
   "cell_type": "code",
   "execution_count": 30,
   "metadata": {},
   "outputs": [
    {
     "data": {
      "text/plain": [
       "'10'"
      ]
     },
     "execution_count": 30,
     "metadata": {},
     "output_type": "execute_result"
    }
   ],
   "source": [
    "b"
   ]
  },
  {
   "cell_type": "markdown",
   "metadata": {},
   "source": [
    "- 따옴표가 있으면 값이 숫자여도 문자로 인식됩니다."
   ]
  },
  {
   "cell_type": "code",
   "execution_count": 31,
   "metadata": {},
   "outputs": [
    {
     "name": "stdout",
     "output_type": "stream",
     "text": [
      "30\n"
     ]
    }
   ],
   "source": [
    "a = 10\n",
    "b = 20\n",
    "print(a + b)"
   ]
  },
  {
   "cell_type": "code",
   "execution_count": 32,
   "metadata": {},
   "outputs": [
    {
     "name": "stdout",
     "output_type": "stream",
     "text": [
      "1020\n"
     ]
    }
   ],
   "source": [
    "a = '10'\n",
    "b = '20'\n",
    "print(a + b)"
   ]
  },
  {
   "cell_type": "markdown",
   "metadata": {},
   "source": [
    "- 아래의 값이 1020이 나온 이유는 숫자가 아닌 문자로 인식되었기 때문입니다."
   ]
  },
  {
   "cell_type": "markdown",
   "metadata": {},
   "source": [
    "## 숫자로 바꾸기"
   ]
  },
  {
   "cell_type": "markdown",
   "metadata": {},
   "source": [
    "- 숫자로 바꾸려면 int()\n",
    "- 소수가 있는 실수로 바꾸려면 float()"
   ]
  },
  {
   "cell_type": "code",
   "execution_count": 34,
   "metadata": {},
   "outputs": [
    {
     "data": {
      "text/plain": [
       "10"
      ]
     },
     "execution_count": 34,
     "metadata": {},
     "output_type": "execute_result"
    }
   ],
   "source": [
    "int('10')"
   ]
  },
  {
   "cell_type": "code",
   "execution_count": 35,
   "metadata": {},
   "outputs": [
    {
     "data": {
      "text/plain": [
       "10.0"
      ]
     },
     "execution_count": 35,
     "metadata": {},
     "output_type": "execute_result"
    }
   ],
   "source": [
    "float('10')"
   ]
  },
  {
   "cell_type": "markdown",
   "metadata": {},
   "source": [
    "## 다시 다시 평균기온만 가져오기"
   ]
  },
  {
   "cell_type": "code",
   "execution_count": 36,
   "metadata": {},
   "outputs": [],
   "source": [
    "avg = []\n",
    "\n",
    "for a in array:\n",
    "    avg.append(float(a[2])) # float를 이용해서 문자를 실수로 바꿉니다."
   ]
  },
  {
   "cell_type": "code",
   "execution_count": 37,
   "metadata": {},
   "outputs": [
    {
     "data": {
      "text/plain": [
       "[19.1, 21.0, 21.1, 22.3, 23.3, 24.9, 25.4, 25.7, 26.0, 26.5]"
      ]
     },
     "execution_count": 37,
     "metadata": {},
     "output_type": "execute_result"
    }
   ],
   "source": [
    "avg[:10]"
   ]
  },
  {
   "cell_type": "markdown",
   "metadata": {},
   "source": [
    "- 위의 값과 비교하면 숫자들에 따옴표가 사라진 것을 볼 수 있습니다."
   ]
  },
  {
   "cell_type": "markdown",
   "metadata": {},
   "source": [
    "## 다시 그래프 그리기"
   ]
  },
  {
   "cell_type": "code",
   "execution_count": 38,
   "metadata": {},
   "outputs": [
    {
     "data": {
      "image/png": "[encoded data removed]",
      "text/plain": [
       "<Figure size 432x288 with 1 Axes>"
      ]
     },
     "metadata": {
      "needs_background": "light"
     },
     "output_type": "display_data"
    }
   ],
   "source": [
    "import matplotlib.pyplot as plt\n",
    "\n",
    "plt.plot(avg)\n",
    "plt.show()"
   ]
  },
  {
   "cell_type": "markdown",
   "metadata": {},
   "source": [
    "## 하나 더! 만약 데이터에 빈 값이 있다면?"
   ]
  },
  {
   "cell_type": "code",
   "execution_count": 39,
   "metadata": {},
   "outputs": [],
   "source": [
    "array = [\n",
    "    ['2013-02-12', '108', '-3.8', '-4.8', '-1.9'],\n",
    "    ['2013-02-13', '108', '-1.3', '-6.3', '2.9'],\n",
    "    ['2013-02-14', '108', '1.1', '-2.6', '5.2'],\n",
    "    ['2013-02-15', '108', '', '-5.2', '1.5'],\n",
    "    ['2013-02-16', '108', '-2.6', '-7', '2.6'],\n",
    "    ['2013-02-17', '108', '', '-2.1', '5.8'],\n",
    "    ['2013-02-18', '108', '0.5', '-2.5', '3.1']\n",
    "]"
   ]
  },
  {
   "cell_type": "code",
   "execution_count": 40,
   "metadata": {},
   "outputs": [
    {
     "ename": "ValueError",
     "evalue": "could not convert string to float: ''",
     "output_type": "error",
     "traceback": [
      "\u001b[0;31m---------------------------------------------------------------------------\u001b[0m",
      "\u001b[0;31mValueError\u001b[0m                                Traceback (most recent call last)",
      "\u001b[0;32m<ipython-input-40-5893e455d60a>\u001b[0m in \u001b[0;36m<module>\u001b[0;34m\u001b[0m\n\u001b[1;32m      2\u001b[0m \u001b[0;34m\u001b[0m\u001b[0m\n\u001b[1;32m      3\u001b[0m \u001b[0;32mfor\u001b[0m \u001b[0ma\u001b[0m \u001b[0;32min\u001b[0m \u001b[0marray\u001b[0m\u001b[0;34m:\u001b[0m\u001b[0;34m\u001b[0m\u001b[0;34m\u001b[0m\u001b[0m\n\u001b[0;32m----> 4\u001b[0;31m     \u001b[0mavg\u001b[0m\u001b[0;34m.\u001b[0m\u001b[0mappend\u001b[0m\u001b[0;34m(\u001b[0m\u001b[0mfloat\u001b[0m\u001b[0;34m(\u001b[0m\u001b[0ma\u001b[0m\u001b[0;34m[\u001b[0m\u001b[0;36m2\u001b[0m\u001b[0;34m]\u001b[0m\u001b[0;34m)\u001b[0m\u001b[0;34m)\u001b[0m\u001b[0;34m\u001b[0m\u001b[0;34m\u001b[0m\u001b[0m\n\u001b[0m",
      "\u001b[0;31mValueError\u001b[0m: could not convert string to float: ''"
     ]
    }
   ],
   "source": [
    "avg = []\n",
    "\n",
    "for a in array:\n",
    "    avg.append(float(a[2]))"
   ]
  },
  {
   "cell_type": "markdown",
   "metadata": {},
   "source": [
    "- 비어 있는 값이 있으면 에러가 납니다.\n",
    "\n",
    "- if 를 통해 비어 있는지 체크를 해서 넣어주게 됩니다."
   ]
  },
  {
   "cell_type": "code",
   "execution_count": 41,
   "metadata": {},
   "outputs": [],
   "source": [
    "avg = []\n",
    "\n",
    "for a in array:\n",
    "    if a[2] != '':\n",
    "        avg.append(float(a[2]))"
   ]
  },
  {
   "cell_type": "code",
   "execution_count": 42,
   "metadata": {},
   "outputs": [
    {
     "data": {
      "text/plain": [
       "[-3.8, -1.3, 1.1, -2.6, 0.5]"
      ]
     },
     "execution_count": 42,
     "metadata": {},
     "output_type": "execute_result"
    }
   ],
   "source": [
    "avg"
   ]
  },
  {
   "cell_type": "code",
   "execution_count": null,
   "metadata": {},
   "outputs": [],
   "source": []
  },
  {
   "cell_type": "code",
   "execution_count": null,
   "metadata": {},
   "outputs": [],
   "source": []
  },
  {
   "cell_type": "code",
   "execution_count": null,
   "metadata": {},
   "outputs": [],
   "source": []
  }
 ],
 "metadata": {
  "kernelspec": {
   "display_name": "Python 3",
   "language": "python",
   "name": "python3"
  },
  "language_info": {
   "codemirror_mode": {
    "name": "ipython",
    "version": 3
   },
   "file_extension": ".py",
   "mimetype": "text/x-python",
   "name": "python",
   "nbconvert_exporter": "python",
   "pygments_lexer": "ipython3",
   "version": "3.8.3"
  }
 },
 "nbformat": 4,
 "nbformat_minor": 2
}
